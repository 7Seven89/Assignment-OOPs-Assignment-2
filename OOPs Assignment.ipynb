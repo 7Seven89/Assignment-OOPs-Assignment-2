{
 "cells": [
  {
   "cell_type": "markdown",
   "id": "48beabbe-5a79-4faa-929a-137ada7d97b0",
   "metadata": {},
   "source": [
    "**Q1. Which function is used to open a file? What are the different modes of opening a file? Explain each mode\n",
    "of file opening.**"
   ]
  },
  {
   "cell_type": "markdown",
   "id": "3067e78e-3495-4238-a655-0608f85e69de",
   "metadata": {},
   "source": [
    "A1. The open() function is used to open a file. It takes two parameters: the file path and the mode in which the file should be opened.\n",
    "\n",
    "The different modes of opening a file in Python:\n",
    "1. Read Mode ('r'): open('file.txt', 'r')\n",
    "2. Write Mode ('w'): open('file.txt', 'w')\n",
    "3. Append Mode ('a'): open('file.txt', 'a')\n",
    "4. Read and Write Mode ('r+'): open('file.txt', 'r+')\n",
    "5. Write and Read Mode ('w+'): open('file.txt', 'w+')\n",
    "6. Append and Read Mode ('a+'): open('file.txt', 'a+')\n",
    "7. Binary Mode ('b'): Can be added to any mode, e.g., 'rb', 'wb', 'ab', 'r+b', 'w+b', 'a+b'"
   ]
  },
  {
   "cell_type": "markdown",
   "id": "70585a3c-f4b0-42dd-996e-e929c04ca692",
   "metadata": {},
   "source": [
    "**Q2. Why close() function is used? Why is it important to close a file?**"
   ]
  },
  {
   "cell_type": "markdown",
   "id": "471b24e4-108b-45de-9450-66be7b98f7f8",
   "metadata": {},
   "source": [
    "A2. The `close()` function in Python is used to close a file that has been opened using the `open()` function. It is important to close a file after you have finished working with it for several reasons:\n",
    "\n",
    "1. Resource Management:\n",
    "Closing a file releases system resources such as memory buffers and file descriptors associated with the file. Failing to close a file may lead to resource leaks, where allocated resources remain in use even after the program finishes execution.\n",
    "\n",
    "2. Data Integrity:\n",
    "Closing a file ensures that all data written to the file is properly flushed and saved. If the file is not closed, there is a risk of data loss or corruption as not all data may be written to the file.\n",
    "\n",
    "3. File Locking:\n",
    "Some operating systems or file systems may lock files when they are opened. Closing the file releases this lock, allowing other processes or users to access the file without issues.\n",
    "\n",
    "4. Good Programming Practice:\n",
    "Closing files after use is considered good programming practice. It helps in maintaining clean and organized code, reduces the chances of accidental data modifications, and avoids file access errors.\n",
    "\n",
    "It is recommended to always use the `close()` function to close files after you have finished using them to ensure proper resource management and data integrity."
   ]
  },
  {
   "cell_type": "markdown",
   "id": "b82afbce-85c7-495f-9174-24c8f0ad1ea2",
   "metadata": {},
   "source": [
    "**Q3. Write a python program to create a text file. Write ‘I want to become a Data Scientist’ in that file. Then\n",
    "close the file. Open this file and read the content of the file.**"
   ]
  },
  {
   "cell_type": "code",
   "execution_count": 15,
   "id": "a6a904d2-d645-4926-9afc-860a8610b3be",
   "metadata": {},
   "outputs": [],
   "source": [
    "# A3.\n",
    "\n",
    "f = open(\"OOPs Assignment.txt\", \"w\")\n",
    "f.write(\"I want to become a Data Scientist\")\n",
    "f.close()"
   ]
  },
  {
   "cell_type": "code",
   "execution_count": 16,
   "id": "6e8b806f-5666-49ad-b9ee-6dd35d156539",
   "metadata": {},
   "outputs": [
    {
     "data": {
      "text/plain": [
       "'I want to become a Data Scientist'"
      ]
     },
     "execution_count": 16,
     "metadata": {},
     "output_type": "execute_result"
    }
   ],
   "source": [
    "f = open(\"OOPs Assignment.txt\", \"r\")\n",
    "f.read()"
   ]
  },
  {
   "cell_type": "code",
   "execution_count": 17,
   "id": "1dbad3ea-8446-4d21-ad54-b26963ed68a6",
   "metadata": {},
   "outputs": [],
   "source": [
    "f.close()"
   ]
  },
  {
   "cell_type": "markdown",
   "id": "e86c0933-1e60-486b-bdfe-4b2f557628fd",
   "metadata": {},
   "source": [
    "**Q4. Explain the following with python code: read(), readline() and readlines().**"
   ]
  },
  {
   "cell_type": "markdown",
   "id": "d3d2fd50-90aa-45b1-ba1a-7f07e4b22ddd",
   "metadata": {},
   "source": [
    "A4.\n",
    "\n",
    "- read(): The read() method is used to read the entire contents of a file as a single string.\n",
    "Syntax: file_object.read(size)\n",
    "size is an optional parameter that specifies the number of bytes to be read. If not provided, it reads the entire file."
   ]
  },
  {
   "cell_type": "code",
   "execution_count": 18,
   "id": "9428c4ab-07ed-4558-9de9-9c34159da830",
   "metadata": {},
   "outputs": [
    {
     "name": "stdout",
     "output_type": "stream",
     "text": [
      "I want to become a Data Scientist\n"
     ]
    }
   ],
   "source": [
    "with open(\"OOPs Assignment.txt\", \"r\") as file:\n",
    "    content = file.read()\n",
    "    print(content)"
   ]
  },
  {
   "cell_type": "markdown",
   "id": "084a1b01-6d6c-4d96-8d35-9de289f52c4a",
   "metadata": {},
   "source": [
    "- readline(): The readline() method reads a single line from the file each time it's called.\n",
    "It returns the line as a string, including the newline character \\n.\n",
    "When all lines have been read, it returns an empty string ''."
   ]
  },
  {
   "cell_type": "code",
   "execution_count": 20,
   "id": "237b72f9-5b02-4468-9d57-b1049f1049d5",
   "metadata": {},
   "outputs": [
    {
     "name": "stdout",
     "output_type": "stream",
     "text": [
      "I want to become a Data Scientist"
     ]
    }
   ],
   "source": [
    "with open('OOPs Assignment.txt', 'r') as file:\n",
    "    line = file.readline()\n",
    "    while line != '':\n",
    "        print(line, end='')  \n",
    "        line = file.readline()"
   ]
  },
  {
   "cell_type": "markdown",
   "id": "cbf2440f-21f8-47ef-916f-ff232b6b093f",
   "metadata": {},
   "source": [
    "- readlines(): The readlines() method reads all lines from the file and returns them as a list of strings.\n",
    "Each string in the list represents a line from the file, including the newline character \\n."
   ]
  },
  {
   "cell_type": "code",
   "execution_count": 22,
   "id": "ae86ce8a-527f-4732-b835-7dee46005892",
   "metadata": {},
   "outputs": [
    {
     "name": "stdout",
     "output_type": "stream",
     "text": [
      "I want to become a Data Scientist"
     ]
    }
   ],
   "source": [
    "with open('OOPs Assignment.txt', 'r') as file:\n",
    "    lines = file.readlines()\n",
    "    for line in lines:\n",
    "        print(line, end='') "
   ]
  },
  {
   "cell_type": "markdown",
   "id": "bdeacce1-3620-473b-8089-f2a581a8151d",
   "metadata": {},
   "source": [
    "**Q5. Explain why with statement is used with open(). What is the advantage of using with statement and\n",
    "open() together?**"
   ]
  },
  {
   "cell_type": "markdown",
   "id": "836db66e-a91c-4db6-a75d-c42e472db9cf",
   "metadata": {},
   "source": [
    "A5. The `with` statement in Python is used with `open()` primarily for resource management and to ensure proper handling of file operations. Here are the advantages of using `with` statement with `open()`:\n",
    "\n",
    "1. **Automatic Resource Management**:\n",
    "   - The `with` statement automatically handles the opening and closing of the file. It ensures that the file is closed properly after the block of code is executed, even if an exception occurs within the block.\n",
    "   - This automatic resource management helps in preventing resource leaks and ensures efficient use of system resources.\n",
    "\n",
    "2. **Cleaner and Concise Code**:\n",
    "   - Using `with` statement with `open()` leads to cleaner and more concise code. You don't need to explicitly call the `close()` method on the file object, which reduces boilerplate code and makes the code easier to read and maintain.\n",
    "   - It also eliminates the need for error-prone manual handling of file closing, reducing the risk of bugs related to resource management.\n",
    "\n",
    "3. **Context Management Protocol**:\n",
    "   - The `with` statement works based on the Context Management Protocol in Python. It establishes a context for the file operations within the block and ensures that the file is closed when the context is exited.\n",
    "   - This context management mechanism is a Pythonic way of managing resources and is widely used not only for file operations but also for other resources like database connections, network sockets, etc."
   ]
  },
  {
   "cell_type": "markdown",
   "id": "7576f7d5-4f75-495b-98c6-ca0908c8f2f3",
   "metadata": {},
   "source": [
    "**Q6. Explain the write() and writelines() functions. Give a suitable example.**"
   ]
  },
  {
   "cell_type": "markdown",
   "id": "6f2c38d5-43b7-484b-8f2e-97c3f5a2317a",
   "metadata": {},
   "source": [
    "A6.\n",
    "The write() and writelines() functions are used to write data to a file in Python.\n",
    "\n",
    "- write(): This function is used to write a single string or bytes object to a file. If the file does not exist, it will be created. If the file already exists, the data will be overwritten.\n",
    "\n",
    "- writelines(): This function is used to write multiple strings or bytes objects to a file. It takes an iterable (such as a list or tuple) containing strings or bytes objects as input. Each item in the iterable is written to the file as a separate line."
   ]
  },
  {
   "cell_type": "code",
   "execution_count": 23,
   "id": "d0a13e24-ca66-4817-ba86-ee578bff3cbd",
   "metadata": {},
   "outputs": [],
   "source": [
    "with open('example.txt', 'w') as file:\n",
    "    # Using write() to write a single string\n",
    "    file.write('Hello, this is a test.\\n')\n",
    "\n",
    "    # Using writelines() to write multiple strings\n",
    "    lines = ['Line 1\\n', 'Line 2\\n', 'Line 3\\n']\n",
    "    file.writelines(lines)\n"
   ]
  },
  {
   "cell_type": "code",
   "execution_count": 24,
   "id": "e71a3345-3414-4494-9b6f-1e3007e03e53",
   "metadata": {},
   "outputs": [
    {
     "name": "stdout",
     "output_type": "stream",
     "text": [
      "Hello, this is a test.\n",
      "Line 1\n",
      "Line 2\n",
      "Line 3\n",
      "\n"
     ]
    }
   ],
   "source": [
    "with open('example.txt', 'r') as file:\n",
    "    content = file.read()\n",
    "    print(content)"
   ]
  }
 ],
 "metadata": {
  "kernelspec": {
   "display_name": "Python 3 (ipykernel)",
   "language": "python",
   "name": "python3"
  },
  "language_info": {
   "codemirror_mode": {
    "name": "ipython",
    "version": 3
   },
   "file_extension": ".py",
   "mimetype": "text/x-python",
   "name": "python",
   "nbconvert_exporter": "python",
   "pygments_lexer": "ipython3",
   "version": "3.12.2"
  }
 },
 "nbformat": 4,
 "nbformat_minor": 5
}
